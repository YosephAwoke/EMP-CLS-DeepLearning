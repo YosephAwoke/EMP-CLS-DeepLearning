{
 "cells": [
  {
   "cell_type": "markdown",
   "id": "aabedb28-d829-48a5-82d2-575469b32f1e",
   "metadata": {},
   "source": [
    "#                                 Dataset Split and Resizing "
   ]
  },
  {
   "cell_type": "code",
   "execution_count": null,
   "id": "a9dad231-79ef-4bfa-8dc9-faca7ec3ae93",
   "metadata": {},
   "outputs": [],
   "source": [
    "import tensorflow as tf\n",
    "from tensorflow.keras import models, layers\n",
    "import matplotlib.pyplot as plt\n",
    "from IPython.display import HTML"
   ]
  },
  {
   "cell_type": "code",
   "execution_count": null,
   "id": "0dfa21e1-c7b1-4739-bdb6-ee3c1086bd01",
   "metadata": {},
   "outputs": [],
   "source": [
    "from PIL import Image\n",
    "import os\n"
   ]
  },
  {
   "cell_type": "markdown",
   "id": "5d111472-d2ac-4842-a63f-3fe25fc8d388",
   "metadata": {},
   "source": [
    "### Import data into tensorflow dataset object"
   ]
  },
  {
   "cell_type": "code",
   "execution_count": 3,
   "id": "6b68c5c3-89fe-40d9-bf4c-ce16677a0194",
   "metadata": {},
   "outputs": [],
   "source": [
    "train_dir = 'datasetX/trainX'\n",
    "valid_dir = 'datasetX/validX'\n",
    "test_dir = 'datasetX/testX'"
   ]
  },
  {
   "cell_type": "markdown",
   "id": "ebc0395d-82b7-46d3-9371-aec338ba9fa0",
   "metadata": {},
   "source": [
    "### Split the dataset"
   ]
  },
  {
   "cell_type": "markdown",
   "id": "79e751a9-8941-4b44-8940-f971df21474f",
   "metadata": {},
   "source": [
    "Used splitfolders tool to split dataset into training, validation and test directories.\n",
    "\n",
    "$ pip install split-folders\n",
    "\n",
    "$ splitfolders --ratio 0.8 0.1 0.1 -- ./training/PlantDataset/"
   ]
  },
  {
   "cell_type": "code",
   "execution_count": null,
   "id": "852fade6-ecb0-4a56-ac53-99f7e1594641",
   "metadata": {},
   "outputs": [],
   "source": [
    "# !pip install split-folders"
   ]
  },
  {
   "cell_type": "code",
   "execution_count": 4,
   "id": "a6a1b699-a15c-4285-86bb-fd241a9e95e1",
   "metadata": {},
   "outputs": [],
   "source": [
    "import splitfolders"
   ]
  },
  {
   "cell_type": "code",
   "execution_count": 6,
   "id": "5e6208e8-39ac-423c-b5b8-08431b8544fe",
   "metadata": {},
   "outputs": [],
   "source": [
    "import splitfolders\n",
    "# Define the input directory containing your dataset\n",
    "input_folder = \"EMP_Dataset\"\n",
    "\n",
    "# Define the output directory where the split dataset will be saved\n",
    "output_folder = \"EMP_Dataset_Splited\"\n",
    "\n",
    "# Define the desired split ratio\n",
    "split_ratio = (0.8, 0.1, 0.1)  # 80% train, 10% validation, 10% test\n",
    "# Use splitfolders package to perform the split\n",
    "splitfolders.ratio(input_folder, output_folder, ratio=split_ratio, seed=42)"
   ]
  },
  {
   "cell_type": "code",
   "execution_count": 7,
   "id": "27380e64-b915-4b05-b3a6-26df58b1d246",
   "metadata": {},
   "outputs": [],
   "source": [
    "# Use splitfolders package to perform the split\n",
    "splitfolders.ratio(input_folder, output_folder, ratio=split_ratio, seed=42)"
   ]
  },
  {
   "cell_type": "code",
   "execution_count": null,
   "id": "2ea347fb-3f58-4b8b-9211-28bdbbf0daad",
   "metadata": {},
   "outputs": [],
   "source": []
  },
  {
   "cell_type": "markdown",
   "id": "7a9b8a0c-622f-4331-8993-7fe4ae977d0c",
   "metadata": {},
   "source": [
    "### Resize images of the dataset"
   ]
  },
  {
   "cell_type": "code",
   "execution_count": null,
   "id": "b6bbea7c-3468-496e-8cd4-451731d0fa85",
   "metadata": {},
   "outputs": [],
   "source": [
    "from PIL import Image\n",
    "import os"
   ]
  },
  {
   "cell_type": "code",
   "execution_count": null,
   "id": "bbacf93b-76b6-4bb5-90e9-c327b18ffd68",
   "metadata": {
    "tags": []
   },
   "outputs": [],
   "source": [
    "\n",
    "def resize_images(input_dir, output_dir, target_size):\n",
    "    os.makedirs(output_dir, exist_ok=True)\n",
    "    \n",
    "    for class_folder in os.listdir(input_dir):\n",
    "        class_path = os.path.join(input_dir, class_folder)\n",
    "        output_class_path = os.path.join(output_dir, class_folder)\n",
    "        os.makedirs(output_class_path, exist_ok=True)\n",
    "        \n",
    "        for filename in os.listdir(class_path):\n",
    "            image_path = os.path.join(class_path, filename)\n",
    "            output_path = os.path.join(output_class_path, filename)\n",
    "            \n",
    "            with Image.open(image_path) as image:\n",
    "                # Calculate the new size while preserving aspect ratio\n",
    "                width, height = image.size\n",
    "                aspect_ratio = width / height\n",
    "                if aspect_ratio > 1:\n",
    "                    new_width = target_size\n",
    "                    new_height = int(target_size / aspect_ratio)\n",
    "                else:\n",
    "                    new_width = int(target_size * aspect_ratio)\n",
    "                    new_height = target_size\n",
    "                \n",
    "                # Resize the image and save it\n",
    "                resized_image = image.resize((new_width, new_height))\n",
    "                resized_image.save(output_path)\n",
    "\n",
    "# Example usage\n",
    "input_directory = \"training_dataset_2_splited/train\"  # Path to your train partition\n",
    "output_directory = \"training_dataset_2_splited_resized/train\"  # Path to the output directory\n",
    "target_size = 256\n",
    "\n",
    "resize_images(input_directory, output_directory, target_size)"
   ]
  },
  {
   "cell_type": "code",
   "execution_count": null,
   "id": "e1bd6bf7-9393-47ba-b5ea-ccdf56f46477",
   "metadata": {
    "jupyter": {
     "source_hidden": true
    },
    "tags": []
   },
   "outputs": [],
   "source": [
    "# Example usage\n",
    "input_directory = \"training_dataset_2_splited/test\"  # Path to your train partition\n",
    "output_directory = \"training_dataset_2_splited_resized/test\"  # Path to the output directory\n",
    "target_size = 256\n",
    "\n",
    "resize_images(input_directory, output_directory, target_size)"
   ]
  },
  {
   "cell_type": "code",
   "execution_count": null,
   "id": "7592c22d-c0d6-4dd1-9810-cfedbcc9c358",
   "metadata": {
    "jupyter": {
     "source_hidden": true
    },
    "tags": []
   },
   "outputs": [],
   "source": [
    "# Example usage\n",
    "input_directory = \"training_dataset_2_splited/val\"  # Path to your train partition\n",
    "output_directory = \"training_dataset_2_splited_resized/val\"  # Path to the output directory\n",
    "target_size = 256\n",
    "\n",
    "resize_images(input_directory, output_directory, target_size)"
   ]
  },
  {
   "cell_type": "markdown",
   "id": "b21107fb-d592-410c-9fff-4732dc94f008",
   "metadata": {},
   "source": [
    "#### Resize while preserving aspect ratio"
   ]
  },
  {
   "cell_type": "code",
   "execution_count": 9,
   "id": "969a632e-f053-48a6-89ca-bf24a85bbfaf",
   "metadata": {
    "tags": []
   },
   "outputs": [],
   "source": [
    "from PIL import Image\n",
    "import os\n",
    "\n",
    "def resize_and_crop_images(input_dir, output_dir, target_size):\n",
    "    os.makedirs(output_dir, exist_ok=True)\n",
    "    \n",
    "    for class_folder in os.listdir(input_dir):\n",
    "        class_path = os.path.join(input_dir, class_folder)\n",
    "        output_class_path = os.path.join(output_dir, class_folder)\n",
    "        os.makedirs(output_class_path, exist_ok=True)\n",
    "        \n",
    "        for filename in os.listdir(class_path):\n",
    "            image_path = os.path.join(class_path, filename)\n",
    "            output_path = os.path.join(output_class_path, filename)\n",
    "            \n",
    "            with Image.open(image_path) as image:\n",
    "                # Resize while preserving aspect ratio\n",
    "                width, height = image.size\n",
    "                aspect_ratio = width / height\n",
    "                if aspect_ratio > 1:\n",
    "                    new_width = target_size\n",
    "                    new_height = int(target_size / aspect_ratio)\n",
    "                else:\n",
    "                    new_width = int(target_size * aspect_ratio)\n",
    "                    new_height = target_size\n",
    "                \n",
    "                resized_image = image.resize((new_width, new_height))\n",
    "                \n",
    "                # Create a square canvas and paste the resized image in the center\n",
    "                canvas = Image.new('RGB', (target_size, target_size), (0, 0, 0))\n",
    "                x = (target_size - new_width) // 2\n",
    "                y = (target_size - new_height) // 2\n",
    "                canvas.paste(resized_image, (x, y))\n",
    "                \n",
    "                # Save the resized and cropped image\n",
    "                canvas.save(output_path)\n",
    "\n",
    "# For Train dataset\n",
    "input_directory = \"EMP_Dataset_Splited/train\"  # Path to your train partition\n",
    "output_directory = \"EMP_Dataset_Splited_ResizedX/train\"  # Path to the output directory\n",
    "target_size = 299\n",
    "\n",
    "resize_and_crop_images(input_directory, output_directory, target_size)"
   ]
  },
  {
   "cell_type": "code",
   "execution_count": 10,
   "id": "9a22f84b-1979-403f-a06a-05348bd2cf41",
   "metadata": {
    "tags": []
   },
   "outputs": [],
   "source": [
    "# For Test dataset\n",
    "input_directory = \"EMP_Dataset_Splited/test\"  # Path to your train partition\n",
    "output_directory = \"EMP_Dataset_Splited_ResizedX/test\"  # Path to the output directory\n",
    "target_size = 299\n",
    "\n",
    "resize_and_crop_images(input_directory, output_directory, target_size)"
   ]
  },
  {
   "cell_type": "code",
   "execution_count": 13,
   "id": "36b847e9-c93d-42bc-90ef-1b510c6ae3e3",
   "metadata": {
    "tags": []
   },
   "outputs": [],
   "source": [
    "# For Valdation dataset\n",
    "input_directory = \"EMP_Dataset_Splited/val\"  # Path to your train partition\n",
    "output_directory = \"EMP_Dataset_Splited_ResizedX/val\"  # Path to the output directory\n",
    "target_size = 299\n",
    "\n",
    "resize_and_crop_images(input_directory, output_directory, target_size)"
   ]
  }
 ],
 "metadata": {
  "kernelspec": {
   "display_name": "empimgcls",
   "language": "python",
   "name": "empimgcls"
  },
  "language_info": {
   "codemirror_mode": {
    "name": "ipython",
    "version": 3
   },
   "file_extension": ".py",
   "mimetype": "text/x-python",
   "name": "python",
   "nbconvert_exporter": "python",
   "pygments_lexer": "ipython3",
   "version": "3.10.11"
  }
 },
 "nbformat": 4,
 "nbformat_minor": 5
}
